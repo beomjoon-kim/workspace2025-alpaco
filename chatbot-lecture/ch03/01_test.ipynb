{
 "cells": [
  {
   "cell_type": "code",
   "execution_count": 7,
   "id": "7c3ee7e6",
   "metadata": {},
   "outputs": [
    {
     "name": "stdout",
     "output_type": "stream",
     "text": [
      "OPENAI_API_KEY 로드 성공: sk-proj...uOIA\n"
     ]
    }
   ],
   "source": [
    "# Step 1: 필요한 패키지 설치 (최초 1회만 실행, 이미 설치되었다면 다음 단계 진행)\n",
    "# !pip install python-dotenv\n",
    "\n",
    "#  Step 2: 라이브러리 불러오기\n",
    "from dotenv import load_dotenv\n",
    "import os\n",
    "#  Step 3: .env 파일 로드\n",
    "# .env 파일이 현재 노트북(.ipynb)와 같은 폴더에 있어야 합니다.\n",
    "load_dotenv()   # Step 4: 환경변수에서 API Key 가져오기\n",
    "OPENAI_API_KEY = os.getenv(\"OPENAI_API_KEY\")   #Step 5: 확인 (API Key는 보안상 끝 4자리만 출력)\n",
    "if OPENAI_API_KEY:\n",
    "    print(f\"OPENAI_API_KEY 로드 성공: {OPENAI_API_KEY[:7]}...{OPENAI_API_KEY[-4:]}\")\n",
    "else:\n",
    "    print(\"OPENAI_API_KEY를 찾을 수 없습니다. .env 파일을 확인하세요.\")"
   ]
  },
  {
   "cell_type": "code",
   "execution_count": 8,
   "id": "a16288f9",
   "metadata": {},
   "outputs": [],
   "source": [
    "import openai\n",
    "\n",
    "client = openai.OpenAI(api_key=OPENAI_API_KEY)"
   ]
  },
  {
   "cell_type": "code",
   "execution_count": 14,
   "id": "6eb01559",
   "metadata": {},
   "outputs": [
    {
     "name": "stdout",
     "output_type": "stream",
     "text": [
      "다음은 기본적인 라면 끓이는 법(1인분)입니다. 패키지에 적힌 물 양이 다르면 그 양에 맞춰 조절하세요.\n",
      "\n",
      "- 준비물: 물, 라면 한 봉지, 스프(가루, 건더기) 포함\n",
      "\n",
      " steps\n",
      "1) 냄비에 물을 끓인다. 보통 550ml 정도가 일반적이지만 패키지 표기 물량에 맞추면 좋다.\n",
      "2) 물이 끓기 시작하면 면을 넣고 2~3분 정도 끓인다. 면이 거의 풀릴 때까지 잘 저어준다.\n",
      "3) 면이 거의 다 익으면 스프 가루를 넣고 30초~1분 정도 더 끓인 뒤 불을 끈다. 그릇에 바로 담아 먹는다.\n",
      "   - 일부 브랜드는 면 넣고 바로 스프를 넣어 같이 끓여도 된다. 포장지의 지시를 따르세요.\n",
      "4) 취향에 따라 바로 먹지 말고 잠깐 식히지 말고도 좋고, 국물이 너무 짜면 물을 조금 더 넣어도 된다.\n",
      "\n",
      "선택적으로 더 맛있게 만드는 방법\n",
      "- 계란 추가: 면이 거의 익었을 때 중앙에 작은 구멍을 내고 계란 한 개를 넣고 뚜껑을 덮어 1~2분 정도만 익히면 반숙 계란이 들어간 라면이 된다. \n",
      "- 야채 추가: 파, 시금치, 양배추, 팽이버섯 등을 같이 넣고 함께 끓이면 더 푸짐하다.\n",
      "- 치즈 라면: 불을 끈 뒤 치즈 한 장이나 모짜렐라를 얹고 남은 열로 녹여 먹으면 크리미해진다.\n",
      "- 매콤하게: 고추가루나 고추기름을 살짝 더해도 좋다.\n",
      "\n",
      "원하는 맛이나 재료에 맞춰 변형해도 무방합니다. 궁금한 브랜드가 있다면 그 브랜드에 맞춘 조리법도 알려드릴게요.\n"
     ]
    }
   ],
   "source": [
    "# model : 사용할 LLM 지정\n",
    "# messages : 대화 기록(역할 + 메시지)\n",
    "response = client.chat.completions.create(\n",
    "    model=\"gpt-5-nano\",\n",
    "    messages=[{\"role\": \"user\", \"content\": \"라면 끓이는 법 알려줘. \"}]\n",
    ")\n",
    "\n",
    "# 모델의 텍스트 응답만 출력\n",
    "print(response.choices[0].message.content)"
   ]
  },
  {
   "cell_type": "code",
   "execution_count": null,
   "id": "44bb72e7",
   "metadata": {},
   "outputs": [],
   "source": []
  }
 ],
 "metadata": {
  "kernelspec": {
   "display_name": ".venv",
   "language": "python",
   "name": "python3"
  },
  "language_info": {
   "codemirror_mode": {
    "name": "ipython",
    "version": 3
   },
   "file_extension": ".py",
   "mimetype": "text/x-python",
   "name": "python",
   "nbconvert_exporter": "python",
   "pygments_lexer": "ipython3",
   "version": "3.13.7"
  }
 },
 "nbformat": 4,
 "nbformat_minor": 5
}
