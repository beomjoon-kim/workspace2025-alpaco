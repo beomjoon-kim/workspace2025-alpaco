{
 "cells": [
  {
   "cell_type": "code",
   "execution_count": 1,
   "id": "4bc0e063",
   "metadata": {},
   "outputs": [
    {
     "name": "stdout",
     "output_type": "stream",
     "text": [
      "Name: openai\n",
      "Version: 1.99.9\n",
      "Summary: The official Python library for the openai API\n",
      "Home-page: https://github.com/openai/openai-python\n",
      "Author: \n",
      "Author-email: OpenAI <support@openai.com>\n",
      "License: Apache-2.0\n",
      "Location: c:\\Users\\campus1N004\\Documents\\workspace-kbj20225\\chatbot-lecture\\ch01\\.venv\\Lib\\site-packages\n",
      "Requires: anyio, distro, httpx, jiter, pydantic, sniffio, tqdm, typing-extensions\n",
      "Required-by: \n",
      "Note: you may need to restart the kernel to use updated packages.\n"
     ]
    }
   ],
   "source": [
    "pip show openai"
   ]
  },
  {
   "cell_type": "code",
   "execution_count": 3,
   "id": "e2d95cdc",
   "metadata": {},
   "outputs": [
    {
     "name": "stdout",
     "output_type": "stream",
     "text": [
      "OPENAI_API_KEY 로드 성공: ...uOIA\n"
     ]
    }
   ],
   "source": [
    "# Step 1: 필요한 패키지 설치 (최초 1회만 실행, 이미 설치되었다면 다음 단계 진행)\n",
    "# !pip install python-dotenv\n",
    "\n",
    "#  Step 2: 라이브러리 불러오기\n",
    "from dotenv import load_dotenv\n",
    "import os\n",
    "#  Step 3: .env 파일 로드\n",
    "# .env 파일이 현재 노트북(.ipynb)와 같은 폴더에 있어야 합니다.\n",
    "load_dotenv()   # Step 4: 환경변수에서 API Key 가져오기\n",
    "OPENAI_API_KEY = os.getenv(\"OPENAI_API_KEY\")   #Step 5: 확인 (API Key는 보안상 끝 4자리만 출력)\n",
    "if OPENAI_API_KEY:\n",
    "    print(f\"OPENAI_API_KEY 로드 성공: ...{OPENAI_API_KEY[-4:]}\")\n",
    "else:\n",
    "    print(\"OPENAI_API_KEY를 찾을 수 없습니다. .env 파일을 확인하세요.\")"
   ]
  },
  {
   "cell_type": "code",
   "execution_count": 5,
   "id": "0175d89d",
   "metadata": {},
   "outputs": [],
   "source": [
    "import openai\n",
    "\n",
    "client = openai.OpenAI(api_key=OPENAI_API_KEY)"
   ]
  },
  {
   "cell_type": "code",
   "execution_count": 11,
   "id": "64b757bb",
   "metadata": {},
   "outputs": [
    {
     "name": "stdout",
     "output_type": "stream",
     "text": [
      "다음은 집에서 쉽게 만들 수 있는 피자 기본 레시피예요. 두 가지 버전을 같이 소개해요: 시간 있는 사람은 기본 도우, 빠르게 만들고 싶을 땐 베이킹파우더 도우 버전.\n",
      "\n",
      "1) 기본 도우(발효 도우)로 만드는 피자 (약 2판)\n",
      "- 재료\n",
      "  - 도우: 밀가루 300 g, 미온수 180 ml, 이스트 건조 7 g(또는 인스턴트 이스트 7 g), 설탕 1 작은술, 소금 1 작은술, 올리브유 1 큰술\n",
      "  - 토핑 소스: 다진 토마토 400 g(또는 토마토 소스 400 g), 올리브유 1 큰술, 마늘 1쪽 다진 것, 소금 약간, 설탕 1 작은술, 이탈리아 허브(바질/오레가노) 약간\n",
      "  - 토핑: 모짜렐라 치즈 약 200–250 g, 원하는 추가 토핑(양파, 피망, 버섯, 올리브 등)\n",
      "- 도구: 오븐, 피자 스톤이나 베이킹 시트, 롤링핀, 큰 볼\n",
      "- 준비 시간: 약 1시간 30분~2시간(발효 포함)\n",
      "\n",
      "- 만드는 법\n",
      "  1. 이스트 활성화: 미온수에 설탕 한 작은술을 풀고 이스트를 뿌려 5–10분 두었다가 거품이 올라오면 준비 완료.\n",
      "  2. 반죽 만들기: 큰 볼에 밀가루와 소금을 섞은 뒤 가운데를 살짝 파고 이스트물과 올리브유를 부어 반죽합니다. \n",
      "     8–10분 손으로 반죽해 매끈하고 탄력 있게 만드세요.\n",
      "  3. 1차 발효: 반죽을 기름을 살짝 발라둔 그릇에 담아 덮개로 덮고 1시간 30분 정도 두어 두 배로 부풀게 합니다.\n",
      "  4. 소스 준비: 팬에 올리브유를 두르고 다진 마늘을 살짝 볶은 뒤 토마토를 넣고 소금, 설탕, 허브로 간합니다. 약 10–15분 끓여 농도를 맞춰 주세요. 식히면 더 좋습니다.\n",
      "  5. 반죽 분할/성형: 발효된 반죽을 가볍게 눌러 가스를 빼고 필요하면 두 덩어리로 나눠 0.5 cm 두께의 원형으로 만듭니다.\n",
      "  6. 예열 및 굽기 준비: 오븐은 250°C로 예열하고 피자 스톤이 있다면 미리 놓아 뜨겁게 만듭니다.\n",
      "  7. 토핑 올리기: 반죽 위에 소스를 얇게 바르고 모짜렐라를 뿌린 뒤 원하는 토핑을 올립니다.\n",
      "  8. 굽기: 피자를 예열된 오븐에 넣고 8–12분 정도 굽습니다. 가장자리가 황금빛이고 치즈가 거품이 나면 완성.\n",
      "  9. 마무리: 구워진 피자를 꺼내고 원하면 바질 잎이나 올리브유를 몇 방울 뿌려 마무리합니다. 조각 내어 바로 드세요.\n",
      "\n",
      "2) 빠른 버전: 베이킹파우더 도우로 만드는 피자\n",
      "- 재료\n",
      "  - 밀가루 250 g, 베이킹파우더 1 1/2 작은술, 소금 한 꼬집, 물 170 ml, 올리브유 1 큰술\n",
      "  - 소스/토핑은 위와 동일\n",
      "- 방법\n",
      "  1) 건조 재료(밀가루, 베이킹파우더, 소금)를 섞습니다.\n",
      "  2) 물과 올리브유를 넣고 한 덩어리가 될 때까지 가볍게 반죽합니다.\n",
      "  3) 0.5 cm 두께로 원형으로 펼친 뒤, 소스와 토핑을 얹고 200°C 정도의 오븐에서 12–15분 굽습니다.\n",
      "  4) 노릇하게 구워지면 꺼내서 바로 드세요.\n",
      "\n",
      "팁\n",
      "- 오븐 예열은 가능한 한 오래 해두는 것이 바삭한 크러스트에 도움이 됩니다(피자 스톤 사용 시 예열 시간 30–60분 권장).\n",
      "- 반죽은 너무 두껍지 않게 얇게 펴면 더 바삭합니다.\n",
      "- 수분이 많은 재료(생 토마토, 채소 등)는 물기를 살짝 제거하면 크러스트가 너무 눅눅해지는 것을 막을 수 있습니다.\n",
      "- 허브는 구운 직전에 올려 향을 살려 주세요.\n",
      "\n",
      "원하는 topping 조합(예: 클래식 마르게리타, 고기 토핑, 채소 혼합)이나 글루텐 프리 버전이 필요하면 알려 주세요. 한국식 재료로도 쉽게 변형해 드릴게요.\n"
     ]
    }
   ],
   "source": [
    "# model : 사용할 LLM 지정\n",
    "# messages : 대화 기록(역할 + 메시지)\n",
    "response = client.chat.completions.create(\n",
    "    model=\"gpt-5-nano\",\n",
    "    messages=[{\"role\": \"user\", \"content\": \"Tell me how to make a pizza, 한국어로 알려줘.\"}]\n",
    ")\n",
    "\n",
    "# 모델의 텍스트 응답만 출력\n",
    "print(response.choices[0].message.content)\n",
    "#print(response)"
   ]
  },
  {
   "cell_type": "code",
   "execution_count": 12,
   "id": "ea58f129",
   "metadata": {},
   "outputs": [
    {
     "name": "stdout",
     "output_type": "stream",
     "text": [
      "CompletionUsage(completion_tokens=4172, prompt_tokens=20, total_tokens=4192, completion_tokens_details=CompletionTokensDetails(accepted_prediction_tokens=0, audio_tokens=0, reasoning_tokens=3008, rejected_prediction_tokens=0), prompt_tokens_details=PromptTokensDetails(audio_tokens=0, cached_tokens=0))\n",
      "총 발생 비용: $0.008374 USD\n",
      "총 발생 비용: 11.0824 원\n"
     ]
    }
   ],
   "source": [
    "# 토큰 사용량 출력\n",
    "print(response.usage)\n",
    "\n",
    "# 2025년 8월 기준 gpt-3.5-turbo 가격(USD)\n",
    "INPUT_PRICE_PER_1K = 0.0015   # 입력(prompt) 1K tokens\n",
    "OUTPUT_PRICE_PER_1K = 0.002   # 출력(completion) 1K tokens\n",
    "\n",
    "# 총 비용(USD) 계산\n",
    "total_bill_usd = (\n",
    "    response.usage.prompt_tokens * INPUT_PRICE_PER_1K / 1000 +\n",
    "    response.usage.completion_tokens * OUTPUT_PRICE_PER_1K / 1000\n",
    ")\n",
    "\n",
    "# USD → 원화 환산 (예시: 1 USD = 1323.43 KRW)\n",
    "usd_to_krw = 1323.43\n",
    "total_bill_krw = total_bill_usd * usd_to_krw\n",
    "\n",
    "# 결과 출력\n",
    "print(f\"총 발생 비용: ${total_bill_usd:.6f} USD\")\n",
    "print(f\"총 발생 비용: {total_bill_krw:.4f} 원\")"
   ]
  },
  {
   "cell_type": "code",
   "execution_count": 13,
   "id": "eda7177f",
   "metadata": {},
   "outputs": [
    {
     "name": "stdout",
     "output_type": "stream",
     "text": [
      "2020년 월드시리즈에서는 로스앤젤레스 다저스가 탬파베이 레이즈를 상대로 우승했어.\n"
     ]
    }
   ],
   "source": [
    "response = client.chat.completions.create(\n",
    "    model=\"gpt-3.5-turbo\",  # 사용할 모델\n",
    "    messages=[\n",
    "        {\"role\": \"system\", \"content\": \"너는 친절하게 답변해주는 비서야\"},\n",
    "        {\"role\": \"user\", \"content\": \"2020년 월드시리즈에서는 누가 우승했어?\"}\n",
    "    ]\n",
    ")\n",
    "\n",
    "print(response.choices[0].message.content)"
   ]
  },
  {
   "cell_type": "code",
   "execution_count": 17,
   "id": "9f1d7bf0",
   "metadata": {},
   "outputs": [
    {
     "name": "stdout",
     "output_type": "stream",
     "text": [
      "지금 바로 실시간 날씨 데이터를 조회해 드릴 수는 없어요. 대신 내일 서울 성동구 날씨를 확인하는 방법과 이번 여름철 서울의 일반적인 경향을 안내해 드릴게요.\n",
      "\n",
      "일반적인 경향(8월 서울)\n",
      "- 매우 덥고 습함. 낮 기온이 30°C대를 오가고 체감 온도는 더 높을 수 있어요.\n",
      "- 오후나 저녁에 소나기가 내릴 가능성도 있습니다.\n",
      "- 자외선이 강하니 자외선 차단과 충분한 수분 섭취가 필요해요.\n",
      "\n",
      "실시간 예보 확인 방법\n",
      "- 한국 기상청 홈페이지(KMA) 또는 앱에서 “서울 성동구 내일 날씨”로 검색\n",
      "- 네이버 날씨 앱/웹에서 동일하게 검색\n",
      "- Kakao Weather 등 주요 날씨 서비스 이용\n",
      "\n",
      "실제로 tomorrow의 구체 예보를 원하시면 제가 바로 검색해서 알려드릴 수 있도록 도와드릴게요. “지금 바로 확인해줘”라고 말씀해 주시거나, 원하시는 서비스(예: 네이버 날씨 링크)로 알려주시면 바로 안내해 드리겠습니다.\n"
     ]
    }
   ],
   "source": [
    "response = client.chat.completions.create(\n",
    "    model=\"gpt-5-nano\",  # 사용할 모델\n",
    "    messages=[\n",
    "        {\"role\": \"system\", \"content\": \"너는 친절하게 답변해주는 비서야\"},\n",
    "        {\"role\": \"user\", \"content\": \"내일 서울 성동구 날씨 어떼?\"}\n",
    "    ]\n",
    ")\n",
    "\n",
    "print(response.choices[0].message.content)"
   ]
  },
  {
   "cell_type": "code",
   "execution_count": 19,
   "id": "a5cadcfb",
   "metadata": {},
   "outputs": [
    {
     "name": "stdout",
     "output_type": "stream",
     "text": [
      "Sorry.\n"
     ]
    }
   ],
   "source": [
    "response = client.chat.completions.create(\n",
    "    model=\"gpt-3.5-turbo\",\n",
    "    messages=[\n",
    "        {\"role\": \"system\", \"content\": \"You're a chatbot that refuses to answer and says sorry when users ask questions.\"},\n",
    "        {\"role\": \"user\", \"content\": \"2020년 월드시리즈에서는 누가 우승했어?\"}\n",
    "    ]\n",
    ")\n",
    "\n",
    "print(response.choices[0].message.content)\n"
   ]
  },
  {
   "cell_type": "code",
   "execution_count": 20,
   "id": "012694f2",
   "metadata": {},
   "outputs": [
    {
     "name": "stdout",
     "output_type": "stream",
     "text": [
      "The Los Angeles Dodgers won the 2020 World Series.\n"
     ]
    }
   ],
   "source": [
    "response = client.chat.completions.create(\n",
    "    model=\"gpt-3.5-turbo\",\n",
    "    messages=[\n",
    "        {\"role\": \"system\", \"content\": \"You are a chatbot that answers questions in English even in Korean.\"},\n",
    "        {\"role\": \"user\", \"content\": \"2020년 월드시리즈에서는 누가 우승했어?\"}\n",
    "    ]\n",
    ")\n",
    "\n",
    "print(response.choices[0].message.content)\n"
   ]
  },
  {
   "cell_type": "code",
   "execution_count": 21,
   "id": "46278ca6",
   "metadata": {},
   "outputs": [
    {
     "name": "stdout",
     "output_type": "stream",
     "text": [
      "Who won the World Series in 2020?\n"
     ]
    }
   ],
   "source": [
    "response = client.chat.completions.create(\n",
    "    model=\"gpt-3.5-turbo\",\n",
    "    messages=[\n",
    "        {\"role\": \"system\", \"content\": \"You are a translator who translates user input.\"},\n",
    "        {\"role\": \"user\", \"content\": \"2020년 월드시리즈에서는 누가 우승했어?\"}\n",
    "    ]\n",
    ")\n",
    "\n",
    "print(response.choices[0].message.content)"
   ]
  },
  {
   "cell_type": "code",
   "execution_count": 24,
   "id": "7a33551e",
   "metadata": {},
   "outputs": [
    {
     "name": "stdout",
     "output_type": "stream",
     "text": [
      "2002년 월드컵은 호주와 일본이 함께 개최하였지만, 이번 대회에서 가장 큰 주목을 받은 나라는 한국이었습니다. 한국은 그룹 리그에서 이탈리아, 스페인, 포르투갈 등 강호들을 상대로 상상도 못했던 좋은 성적들을 거두었습니다. \n",
      "\n",
      "특히 강력한 이탈리아를 상대로 16강, 후술받는 '겉치레 축구'로 인하여 조별리그가 최악의 심판 판정으로 대회 초반부터 화제화되었고, 이면의 근성을 보여준 이들은 후에 부상하게된 토르스텐 프리들의 도움과 함께 아시아 무대 최초의 4강 화제를 연 단층을 터트렸습니다. \n",
      "\n",
      "한국은 4강에서 투어난 그림 속의 데이비드였거든요. 이러한 기적적인 성과로 한국 대표팀은 전국민들의 열정과 응원을 받았으며, 2002년 월드컵은 한국 사회에 큰 활력과 자부심을 안겨주는 역사적인 대회로 남게 되었습니다.\n"
     ]
    }
   ],
   "source": [
    "response = client.chat.completions.create(\n",
    "    model=\"gpt-3.5-turbo\",  # 사용할 LLM 모델 지정\n",
    "    messages=[\n",
    "        {\"role\": \"user\", \"content\": \"2002년 월드컵에서 가장 화제가 되었던 나라는 어디야?\"},\n",
    "        {\"role\": \"assistant\", \"content\": \"바로 예상을 뚫고 4강 진출 신화를 일으킨 한국입니다.\"},\n",
    "        {\"role\": \"user\", \"content\": \"그 나라가 화제가 되었던 이유를 자세하게 설명해줘\"}\n",
    "    ]\n",
    ")\n",
    "\n",
    "print(response.choices[0].message.content)\n"
   ]
  },
  {
   "cell_type": "code",
   "execution_count": 23,
   "id": "fda80150",
   "metadata": {},
   "outputs": [
    {
     "name": "stdout",
     "output_type": "stream",
     "text": [
      "2002년 월드컵에서 가장 화제가 된 나라는 한국이었습니다. 한국은 진출팀이자 공동주최국으로서 대회 역사상 처음으로 준결승까지 진출하여 세계적인 관심을 받았습니다. 특히 한국의 열정적인 응원문화와 놀라운 경기력으로 많은 사람들의 관심을 끌었습니다.\n"
     ]
    }
   ],
   "source": [
    "response = client.chat.completions.create(\n",
    "    model=\"gpt-3.5-turbo\",\n",
    "    messages=[\n",
    "        {\"role\": \"user\", \"content\": \"2002년 월드컵에서 가장 화제가 되었던 나라는 어디야?\"}\n",
    "    ]\n",
    ")\n",
    "\n",
    "print(response.choices[0].message.content)"
   ]
  },
  {
   "cell_type": "code",
   "execution_count": 25,
   "id": "7886d555",
   "metadata": {},
   "outputs": [],
   "source": [
    "# 대화 이력을 담을 리스트\n",
    "messages = [\n",
    "    {\"role\":\"system\",\"content\":\"너는 친절하고 간결하게 답한다.\"}\n",
    "]\n",
    "\n",
    "def chat(user_text, temperature=0.5):\n",
    "    \"\"\"대화 이력을 누적 전달하고, 모델 답변을 이력에 추가.\"\"\"\n",
    "    messages.append({\"role\":\"user\",\"content\":user_text})\n",
    "    r = client.chat.completions.create(\n",
    "        model=\"gpt-4o-mini\",\n",
    "        messages=messages,\n",
    "        temperature=temperature\n",
    "    )\n",
    "    answer = r.choices[0].message.content\n",
    "    messages.append({\"role\":\"assistant\",\"content\":answer})\n",
    "    print(f\"[사용자] {user_text}\\n[모델] {answer}\\n\")\n",
    "    return r  # usage 등 메타데이터 확인용 반환"
   ]
  },
  {
   "cell_type": "code",
   "execution_count": 26,
   "id": "9f2f9726",
   "metadata": {},
   "outputs": [
    {
     "name": "stdout",
     "output_type": "stream",
     "text": [
      "[사용자] 쿠키와 세션의 차이를 한 문단으로 설명해줘.\n",
      "[모델] 쿠키와 세션은 웹 애플리케이션에서 사용자 정보를 저장하고 관리하는 방법이지만, 그 방식과 용도가 다릅니다. 쿠키는 클라이언트(사용자의 브라우저)에 저장되는 작은 데이터 파일로, 사용자의 설정이나 로그인 정보를 포함하여 여러 웹사이트에서 지속적으로 사용할 수 있습니다. 반면, 세션은 서버 측에서 관리되며, 사용자와 서버 간의 연결이 유지되는 동안만 유효합니다. 세션은 보안성이 높고, 서버에 저장된 데이터로 인해 더 많은 정보를 처리할 수 있지만, 사용자가 브라우저를 닫거나 세션이 만료되면 정보가 사라집니다.\n",
      "\n",
      "[사용자] 비개발자에게 더 쉽게 풀어줘. 비유를 하나 추가해봐.\n",
      "[모델] 쿠키와 세션은 웹사이트에서 사용자 정보를 저장하는 방법인데, 비유하자면 쿠키는 사용자가 집에 두고 다니는 메모지와 같고, 세션은 친구 집에 있는 일기장과 비슷합니다. 쿠키는 메모지에 사용자의 선호나 로그인 정보를 적어두어 언제든지 꺼내볼 수 있게 하는 것이고, 세션은 친구 집에서만 읽을 수 있는 일기장처럼, 서버에 저장되어 사용자가 웹사이트를 이용하는 동안만 유효합니다. 즉, 쿠키는 사용자가 여러 웹사이트를 돌아다니며 계속 사용할 수 있지만, 세션은 특정 웹사이트에서만 사용되고, 브라우저를 닫으면 사라지는 정보입니다.\n",
      "\n",
      "[사용자] 보안 관점에서 쿠키에 저장하면 위험한 데이터 예시를 들어줘.\n",
      "[모델] 보안 관점에서 쿠키에 저장하면 위험한 데이터의 예로는 사용자 비밀번호, 신용카드 정보, 개인 식별 정보(예: 주민등록번호), 그리고 민감한 개인 메시지나 대화 내용이 있습니다. 이러한 정보는 쿠키를 통해 클라이언트 측에 저장되기 때문에, 악의적인 공격자가 쿠키를 탈취하거나 변조할 경우 사용자의 개인정보가 유출될 위험이 큽니다. 따라서 이러한 민감한 데이터는 서버 측 세션이나 안전한 암호화 방법을 통해 관리하는 것이 바람직합니다.\n",
      "\n"
     ]
    }
   ],
   "source": [
    "# 대화 진행\n",
    "r1 = chat(\"쿠키와 세션의 차이를 한 문단으로 설명해줘.\")\n",
    "r2 = chat(\"비개발자에게 더 쉽게 풀어줘. 비유를 하나 추가해봐.\")\n",
    "r3 = chat(\"보안 관점에서 쿠키에 저장하면 위험한 데이터 예시를 들어줘.\")"
   ]
  },
  {
   "cell_type": "code",
   "execution_count": 27,
   "id": "7163419a",
   "metadata": {},
   "outputs": [
    {
     "name": "stdout",
     "output_type": "stream",
     "text": [
      "턴1 | prompt:38, completion:146, total:184, USD~0.000093\n",
      "턴2 | prompt:211, completion:163, total:374, USD~0.000129\n",
      "턴3 | prompt:401, completion:126, total:527, USD~0.000136\n"
     ]
    }
   ],
   "source": [
    "# 예시 단가(실습용) — 최신 가격표로 갱신해서 사용 권장\n",
    "INPUT_PER_1K  = 0.00015   # gpt-4o-mini 입력\n",
    "OUTPUT_PER_1K = 0.00060   # gpt-4o-mini 출력\n",
    "\n",
    "def show_usage(label, resp):\n",
    "    u = resp.usage\n",
    "    usd = (u.prompt_tokens*INPUT_PER_1K + u.completion_tokens*OUTPUT_PER_1K)/1000.0\n",
    "    print(f\"{label} | prompt:{u.prompt_tokens}, completion:{u.completion_tokens}, total:{u.total_tokens}, USD~{usd:.6f}\")\n",
    "\n",
    "show_usage(\"턴1\", r1)\n",
    "show_usage(\"턴2\", r2)\n",
    "show_usage(\"턴3\", r3)\n"
   ]
  },
  {
   "cell_type": "code",
   "execution_count": 28,
   "id": "267ab3d9",
   "metadata": {},
   "outputs": [],
   "source": [
    "def summarize_history(max_chars=800):\n",
    "    \"\"\"현재 대화를 요약해 assistant의 한 메시지로 압축.\"\"\"\n",
    "    # system 제외한 대화만 텍스트로 합치기 (간단 예시)\n",
    "    convo_text = []\n",
    "    for m in messages:\n",
    "        if m[\"role\"] == \"system\":\n",
    "            continue\n",
    "        tag = \"사용자\" if m[\"role\"]==\"user\" else \"모델\"\n",
    "        convo_text.append(f\"{tag}: {m['content']}\")\n",
    "    convo_text = \"\\n\".join(convo_text)\n",
    "\n",
    "    prompt = (\n",
    "        \"다음 대화를 핵심 사실/요구사항만 남기고 5~7문장으로 요약해줘. \"\n",
    "        \"중복은 제거하고, 이후 후속 질문에 도움이 되도록 정보 구조화해줘.\\n\\n\"\n",
    "        + convo_text[:4000]  # 안전하게 일부만 요약 입력 (간단 예시)\n",
    "    )\n",
    "    r = client.chat.completions.create(\n",
    "        model=\"gpt-4o-mini\",\n",
    "        messages=[\n",
    "            {\"role\":\"system\",\"content\":\"너는 뛰어난 요약가다. 핵심만 간결히 정리한다.\"},\n",
    "            {\"role\":\"user\",\"content\": prompt}\n",
    "        ],\n",
    "        temperature=0.3\n",
    "    )\n",
    "    summary = r.choices[0].message.content\n",
    "    return summary"
   ]
  },
  {
   "cell_type": "code",
   "execution_count": 29,
   "id": "96b8764a",
   "metadata": {},
   "outputs": [
    {
     "name": "stdout",
     "output_type": "stream",
     "text": [
      "[요약]\n",
      " 쿠키와 세션은 사용자 정보를 저장하는 방법으로, 쿠키는 클라이언트의 브라우저에 저장되는 반면, 세션은 서버에서 관리됩니다. 쿠키는 사용자가 여러 웹사이트에서 지속적으로 사용할 수 있는 메모지와 같고, 세션은 특정 웹사이트에서만 유효한 친구 집의 일기장과 비유할 수 있습니다. 보안 측면에서 쿠키에 저장하면 위험한 데이터로는 비밀번호, 신용카드 정보, 주민등록번호 등이 있으며, 이는 악의적인 공격에 노출될 수 있습니다. 따라서 민감한 데이터는 서버 측 세션이나 안전한 암호화 방법으로 관리하는 것이 바람직합니다. \n",
      "\n",
      "[사용자] 위 대화 흐름을 기반으로, 쿠키 보안 베스트 프랙티스를 체크리스트로 만들어줘.\n",
      "[모델] 쿠키 보안 베스트 프랙티스 체크리스트:\n",
      "\n",
      "1. **HTTPOnly 속성 사용**: \n",
      "   - 쿠키에 `HttpOnly` 속성을 설정하여 JavaScript에서 접근할 수 없도록 합니다.\n",
      "\n",
      "2. **Secure 속성 사용**: \n",
      "   - 쿠키에 `Secure` 속성을 설정하여 HTTPS 연결을 통해서만 전송되도록 합니다.\n",
      "\n",
      "3. **SameSite 속성 설정**: \n",
      "   - `SameSite` 속성을 `Strict` 또는 `Lax`로 설정하여 CSRF 공격을 방지합니다.\n",
      "\n",
      "4. **쿠키 만료 설정**: \n",
      "   - 쿠키의 `Expires` 또는 `Max-Age` 속성을 설정하여 유효 기간을 제한합니다.\n",
      "\n",
      "5. **민감한 정보 저장 금지**: \n",
      "   - 비밀번호, 신용카드 번호 등 민감한 정보를 쿠키에 저장하지 않습니다.\n",
      "\n",
      "6. **쿠키 이름 및 값 암호화**: \n",
      "   - 쿠키의 이름과 값에 민감한 정보를 포함하지 않도록 하고, 필요 시 암호화합니다.\n",
      "\n",
      "7. **정기적인 쿠키 검토**: \n",
      "   - 쿠키 사용 정책을 정기적으로 검토하고 필요 없는 쿠키는 삭제합니다.\n",
      "\n",
      "8. **도메인 및 경로 제한**: \n",
      "   - 쿠키의 `Domain`과 `Path` 속성을 설정하여 쿠키가 접근할 수 있는 범위를 제한합니다.\n",
      "\n",
      "9. **보안 감사 및 모니터링**: \n",
      "   - 쿠키 사용에 대한 보안 감사 및 모니터링을 정기적으로 수행합니다.\n",
      "\n",
      "10. **사용자 교육**: \n",
      "   - 사용자에게 쿠키의 보안 위험성에 대해 교육하고, 안전한 웹 사용 습관을 장려합니다.\n",
      "\n",
      "이 체크리스트를 통해 쿠키의 보안을 강화할 수 있습니다.\n",
      "\n"
     ]
    }
   ],
   "source": [
    "summary = summarize_history()\n",
    "print(\"[요약]\\n\", summary, \"\\n\")\n",
    "\n",
    "# system만 남기고 대화 압축(요약을 assistant 1개로 두고 계속 이어가기)\n",
    "messages[:] = [m for m in messages if m[\"role\"] == \"system\"]\n",
    "messages.append({\"role\":\"assistant\",\"content\":summary})\n",
    "\n",
    "# 요약 이후에도 문맥이 이어지는지 확인\n",
    "r4 = chat(\"위 대화 흐름을 기반으로, 쿠키 보안 베스트 프랙티스를 체크리스트로 만들어줘.\")"
   ]
  },
  {
   "cell_type": "code",
   "execution_count": 30,
   "id": "a25803ac",
   "metadata": {},
   "outputs": [
    {
     "name": "stdout",
     "output_type": "stream",
     "text": [
      "쿠키 보안 베스트 프랙티스 체크리스트:\n",
      "\n",
      "1. **HTTPOnly 속성 사용**: \n",
      "   - 쿠키에 `HttpOnly` 속성을 설정하여 JavaScript에서 접근할 수 없도록 합니다.\n",
      "\n",
      "2. **Secure 속성 사용**: \n",
      "   - 쿠키에 `Secure` 속성을 설정하여 HTTPS 연결을 통해서만 전송되도록 합니다.\n",
      "\n",
      "3. **SameSite 속성 설정**: \n",
      "   - `SameSite` 속성을 `Strict` 또는 `Lax`로 설정하여 CSRF 공격을 방지합니다.\n",
      "\n",
      "4. **쿠키 만료 설정**: \n",
      "   - 쿠키의 `Expires` 또는 `Max-Age` 속성을 설정하여 유효 기간을 제한합니다.\n",
      "\n",
      "5. **민감한 정보 저장 금지**: \n",
      "   - 비밀번호, 신용카드 번호 등 민감한 정보를 쿠키에 저장하지 않습니다.\n",
      "\n",
      "6. **쿠키 이름 및 값 암호화**: \n",
      "   - 쿠키의 이름과 값에 민감한 정보를 포함하지 않도록 하고, 필요 시 암호화합니다.\n",
      "\n",
      "7. **정기적인 쿠키 검토**: \n",
      "   - 쿠키 사용 정책을 정기적으로 검토하고 필요 없는 쿠키는 삭제합니다.\n",
      "\n",
      "8. **도메인 및 경로 제한**: \n",
      "   - 쿠키의 `Domain`과 `Path` 속성을 설정하여 쿠키가 접근할 수 있는 범위를 제한합니다.\n",
      "\n",
      "9. **보안 감사 및 모니터링**: \n",
      "   - 쿠키 사용에 대한 보안 감사 및 모니터링을 정기적으로 수행합니다.\n",
      "\n",
      "10. **사용자 교육**: \n",
      "   - 사용자에게 쿠키의 보안 위험성에 대해 교육하고, 안전한 웹 사용 습관을 장려합니다.\n",
      "\n",
      "이 체크리스트를 통해 쿠키의 보안을 강화할 수 있습니다.\n",
      "{\n",
      "  \"id\": \"chatcmpl-C401UxLLO78E0U6HFBsBQ51moTaAq\",\n",
      "  \"choices\": [\n",
      "    {\n",
      "      \"finish_reason\": \"stop\",\n",
      "      \"index\": 0,\n",
      "      \"logprobs\": null,\n",
      "      \"message\": {\n",
      "        \"content\": \"쿠키 보안 베스트 프랙티스 체크리스트:\\n\\n1. **HTTPOnly 속성 사용**: \\n   - 쿠키에 `HttpOnly` 속성을 설정하여 JavaScript에서 접근할 수 없도록 합니다.\\n\\n2. **Secure 속성 사용**: \\n   - 쿠키에 `Secure` 속성을 설정하여 HTTPS 연결을 통해서만 전송되도록 합니다.\\n\\n3. **SameSite 속성 설정**: \\n   - `SameSite` 속성을 `Strict` 또는 `Lax`로 설정하여 CSRF 공격을 방지합니다.\\n\\n4. **쿠키 만료 설정**: \\n   - 쿠키의 `Expires` 또는 `Max-Age` 속성을 설정하여 유효 기간을 제한합니다.\\n\\n5. **민감한 정보 저장 금지**: \\n   - 비밀번호, 신용카드 번호 등 민감한 정보를 쿠키에 저장하지 않습니다.\\n\\n6. **쿠키 이름 및 값 암호화**: \\n   - 쿠키의 이름과 값에 민감한 정보를 포함하지 않도록 하고, 필요 시 암호화합니다.\\n\\n7. **정기적인 쿠키 검토**: \\n   - 쿠키 사용 정책을 정기적으로 검토하고 필요 없는 쿠키는 삭제합니다.\\n\\n8. **도메인 및 경로 제한**: \\n   - 쿠키의 `Domain`과 `Path` 속성을 설정하여 쿠키가 접근할 수 있는 범위를 제한합니다.\\n\\n9. **보안 감사 및 모니터링**: \\n   - 쿠키 사용에 대한 보안 감사 및 모니터링을 정기적으로 수행합니다.\\n\\n10. **사용자 교육**: \\n   - 사용자에게 쿠키의 보안 위험성에 대해 교육하고, 안전한 웹 사용 습관을 장려합니다.\\n\\n이 체크리스트를 통해 쿠키의 보안을 강화할 수 있습니다.\",\n",
      "        \"refusal\": null,\n",
      "        \"role\": \"assistant\",\n",
      "        \"annotations\": [],\n",
      "        \"audio\": null,\n",
      "        \"function_call\": null,\n",
      "        \"tool_calls\": null\n",
      "      }\n",
      "    }\n",
      "  ],\n",
      "  \"created\": 1755069436,\n",
      "  \"model\": \"gpt-4o-mini-2024-07-18\",\n",
      "  \"object\": \"chat.completion\",\n",
      "  \"service_tier\": \"default\",\n",
      "  \"system_fingerprint\": \"fp_34a54ae93c\",\n",
      "  \"usage\": {\n",
      "    \"completion_tokens\": 395,\n",
      "    \"prompt_tokens\": 203,\n",
      "    \"total_tokens\": 598,\n",
      "    \"completion_tokens_details\": {\n",
      "      \"accepted_prediction_tokens\": 0,\n",
      "      \"audio_tokens\": 0,\n",
      "      \"reasoning_tokens\": 0,\n",
      "      \"rejected_prediction_tokens\": 0\n",
      "    },\n",
      "    \"prompt_tokens_details\": {\n",
      "      \"audio_tokens\": 0,\n",
      "      \"cached_tokens\": 0\n",
      "    }\n",
      "  }\n",
      "}\n"
     ]
    },
    {
     "name": "stderr",
     "output_type": "stream",
     "text": [
      "C:\\Users\\campus1N004\\AppData\\Local\\Temp\\ipykernel_12152\\3549879587.py:6: PydanticDeprecatedSince20: The `dict` method is deprecated; use `model_dump` instead. Deprecated in Pydantic V2.0 to be removed in V3.0. See Pydantic V2 Migration Guide at https://errors.pydantic.dev/2.11/migration/\n",
      "  print(json.dumps(r4.dict(), indent=2, ensure_ascii=False))\n"
     ]
    }
   ],
   "source": [
    "# 응답 텍스트만\n",
    "print(r4.choices[0].message.content)\n",
    "\n",
    "# 전체 JSON 구조 보기\n",
    "import json\n",
    "print(json.dumps(r4.dict(), indent=2, ensure_ascii=False))"
   ]
  },
  {
   "cell_type": "code",
   "execution_count": null,
   "id": "cae0392f",
   "metadata": {},
   "outputs": [],
   "source": []
  }
 ],
 "metadata": {
  "kernelspec": {
   "display_name": ".venv",
   "language": "python",
   "name": "python3"
  },
  "language_info": {
   "codemirror_mode": {
    "name": "ipython",
    "version": 3
   },
   "file_extension": ".py",
   "mimetype": "text/x-python",
   "name": "python",
   "nbconvert_exporter": "python",
   "pygments_lexer": "ipython3",
   "version": "3.13.6"
  }
 },
 "nbformat": 4,
 "nbformat_minor": 5
}
